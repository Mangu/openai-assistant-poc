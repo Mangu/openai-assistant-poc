{
 "cells": [
  {
   "cell_type": "code",
   "execution_count": 2,
   "metadata": {},
   "outputs": [],
   "source": [
    "import os\n",
    "import json\n",
    "from openai import AzureOpenAI\n",
    "\n",
    "    \n",
    "client = AzureOpenAI(\n",
    "    api_key=os.getenv(\"AZURE_OPENAI_API_KEY\"),  \n",
    "    api_version=\"2024-02-15-preview\",\n",
    "    azure_endpoint = os.getenv(\"AZURE_OPENAI_ENDPOINT\")\n",
    "    )"
   ]
  },
  {
   "cell_type": "code",
   "execution_count": null,
   "metadata": {},
   "outputs": [],
   "source": [
    "assistant_id = \"asst_bLvSlz40u6JfYR30LpRDqLTe\"\n",
    "\n",
    "assistant = client.beta.assistants.retrieve(assistant_id)\n",
    "print(assistant)"
   ]
  },
  {
   "cell_type": "code",
   "execution_count": null,
   "metadata": {},
   "outputs": [],
   "source": [
    "thread = client.beta.threads.create()\n",
    "print(thread.id)"
   ]
  },
  {
   "cell_type": "code",
   "execution_count": 5,
   "metadata": {},
   "outputs": [],
   "source": [
    "# Add a user question to the thread\n",
    "msg = \"Can you help me with a patient chart?\"\n",
    "\n",
    "#msg = \"email me a summary of this conversation to ddiaz@live.com thread_id: thread_4i0QVGUqIbnjd5SmNgXOCHib\"\n",
    "\n",
    "message = client.beta.threads.messages.create(\n",
    "    thread_id=thread.id,\n",
    "    role=\"user\",\n",
    "    content=msg\n",
    ")\n",
    "\n",
    "thread_messages = client.beta.threads.messages.list(thread.id)"
   ]
  },
  {
   "cell_type": "code",
   "execution_count": 6,
   "metadata": {},
   "outputs": [],
   "source": [
    "run = client.beta.threads.runs.create(\n",
    "  thread_id=thread.id,\n",
    "  assistant_id=assistant.id,\n",
    "  #instructions=\"New instructions\" #You can optionally provide new instructions but these will override the default instructions\n",
    ")"
   ]
  },
  {
   "cell_type": "code",
   "execution_count": null,
   "metadata": {},
   "outputs": [],
   "source": [
    "# Retrieve the status of the run\n",
    "run = client.beta.threads.runs.retrieve(\n",
    "  thread_id=thread.id,\n",
    "  run_id=run.id\n",
    ")\n",
    "\n",
    "status = run.status\n",
    "print(status)"
   ]
  },
  {
   "cell_type": "code",
   "execution_count": 8,
   "metadata": {},
   "outputs": [
    {
     "ename": "ImportError",
     "evalue": "cannot import name 'send_summary' from 'api.functions.email' (c:\\source\\openai-assistant-poc\\api\\functions\\email.py)",
     "output_type": "error",
     "traceback": [
      "\u001b[1;31m---------------------------------------------------------------------------\u001b[0m",
      "\u001b[1;31mImportError\u001b[0m                               Traceback (most recent call last)",
      "Cell \u001b[1;32mIn[8], line 1\u001b[0m\n\u001b[1;32m----> 1\u001b[0m \u001b[38;5;28;01mfrom\u001b[39;00m \u001b[38;5;21;01mapi\u001b[39;00m\u001b[38;5;21;01m.\u001b[39;00m\u001b[38;5;21;01mfunctions\u001b[39;00m\u001b[38;5;21;01m.\u001b[39;00m\u001b[38;5;21;01memail\u001b[39;00m \u001b[38;5;28;01mimport\u001b[39;00m send_summary\n\u001b[0;32m      3\u001b[0m \u001b[38;5;66;03m#send_summary(\"ddiaz@live.com\", thread.id)\u001b[39;00m\n",
      "\u001b[1;31mImportError\u001b[0m: cannot import name 'send_summary' from 'api.functions.email' (c:\\source\\openai-assistant-poc\\api\\functions\\email.py)"
     ]
    }
   ],
   "source": [
    "from api.functions.email import send_summary\n",
    "\n",
    "#send_summary(\"ddiaz@live.com\", thread.id)"
   ]
  },
  {
   "cell_type": "code",
   "execution_count": null,
   "metadata": {},
   "outputs": [],
   "source": [
    "from api.functions.patient import get_patient_information\n",
    "from api.functions.patient import get_patient_chart\n",
    "from api.functions.email import send_report\n",
    "from api.functions.patient import review_chart\n",
    "\n",
    "import time\n",
    "\n",
    "max_steps = 10 \n",
    "sleep = .5\n",
    "\n",
    "#add the available functions here   \n",
    "available_functions = {\"get_patient_information\": get_patient_information, \"get_patient_chart\": get_patient_chart, \"send_summary\": send_summary,\"review_chart\":review_chart}\n",
    "\n",
    "try:\n",
    "    cnt = 0\n",
    "    while cnt < max_steps:\n",
    "        run = client.beta.threads.runs.retrieve(thread_id=thread.id, run_id=run.id)        \n",
    "        cnt += 1\n",
    "        if run.status == \"requires_action\":\n",
    "            tool_responses = []\n",
    "            if (\n",
    "                run.required_action.type == \"submit_tool_outputs\"\n",
    "                and run.required_action.submit_tool_outputs.tool_calls is not None\n",
    "            ):\n",
    "                tool_calls = run.required_action.submit_tool_outputs.tool_calls\n",
    "\n",
    "                for call in tool_calls:\n",
    "                    if call.type == \"function\":\n",
    "                        if call.function.name not in available_functions:\n",
    "                            raise Exception(\"Function requested by the model does not exist\")\n",
    "                        function_to_call = available_functions[call.function.name]\n",
    "                        print(call.function.arguments)\n",
    "                        print(call.function.name)\n",
    "                        tool_response = function_to_call(**json.loads(call.function.arguments))\n",
    "                        tool_responses.append({\"tool_call_id\": call.id, \"output\": tool_response})\n",
    "\n",
    "            run = client.beta.threads.runs.submit_tool_outputs(\n",
    "                thread_id=thread.id, run_id=run.id, tool_outputs=tool_responses\n",
    "            )\n",
    "\n",
    "            print(run.status)\n",
    "\n",
    "        if run.status == \"failed\":\n",
    "            print(\"Run failed.\")\n",
    "            break\n",
    "        if run.status == \"completed\":\n",
    "            break\n",
    "        time.sleep(sleep)\n",
    "\n",
    "except Exception as e:\n",
    "    print(e)\n",
    "\n"
   ]
  },
  {
   "cell_type": "code",
   "execution_count": 1,
   "metadata": {},
   "outputs": [
    {
     "name": "stdout",
     "output_type": "stream",
     "text": [
      "The patient chart provides a comprehensive overview of the patient's condition and the events leading up to their current state. Here are some observations and feedback based on the information provided:\n",
      "\n",
      "1. **Chief Complaint:** \n",
      "   - The primary issue is chest pain. Given the patient's age (78 years old) and his medical history, this should be taken seriously.\n",
      "\n",
      "2. **History:**\n",
      "   - No prior history of chest pains is noted, which means this episode could be particularly concerning if it’s the first occurrence.\n",
      "   - The patient is diabetic, which increases the risk of cardiovascular issues.\n",
      "   - Seasonal allergies and occasional use of OTC medication for heartburn and body aches. It's important to differentiate if the chest pain could be related to heartburn or GERD.\n",
      "   - Time of last oral intake is relevant and indicates the patient has had a gap between the last intake and the onset of chest pain.\n",
      "\n",
      "3. **Assessment:**\n",
      "   - The patient is alert and oriented (AOx4), which is a good sign.\n",
      "   - Vital signs:\n",
      "     - Heart Rate (HR): 98; slightly elevated but within normal limits.\n",
      "     - Blood Pressure (BP): 130/84; normal.\n",
      "     - Temperature: 98.8°F; normal.\n",
      "     - Respiratory Rate (RR): 14; normal.\n",
      "     - Blood Oxygen: 99%; excellent.\n",
      "\n",
      "   The vitals do not indicate an acute crisis but considering the complaint of chest pain, further investigation is warranted.\n",
      " \n",
      "4. **Additional Symptoms:** \n",
      "   - No other symptoms are reported, and the patient describes mild discomfort. However, mild discomfort in chest pain should not be underestimated, especially in a diabetic patient.\n",
      "\n",
      "### Recommendations:\n",
      "1. **Immediate Further Evaluation:**\n",
      "   - Given the patient's chest pain and his risk factors (age, diabetes), conducting an ECG to rule out any acute cardiac event is advisable.\n",
      "   - Blood tests, including troponin levels, to check for markers of a myocardial infarction.\n",
      "   - Consider a thorough physical examination focusing on cardiovascular and respiratory systems.\n",
      "   \n",
      "2. **Monitoring:**\n",
      "   - Continuous monitoring of vitals is critical. Monitor pain levels and any changes in symptoms.\n",
      "   \n",
      "3. **Pain Management:**\n",
      "   - Evaluate if nitroglycerin is indicated (if not contraindicated). \n",
      "   - Consider whether the chest pain could be related to acid reflux (GERD) due to his mention of taking OTC for heartburn, and manage accordingly if a cardiac cause is ruled out.\n",
      "\n",
      "4. **Medical History Update:**\n",
      "   - Ensure all medications, including OTC, are documented. This can help in understanding potential drug interactions or side effects.\n",
      "   \n",
      "5. **Follow-Up:**\n",
      "   - Strongly recommend the patient follow up with a primary care physician or cardiologist regardless of the immediate findings, to ensure they receive a comprehensive cardiac evaluation.\n",
      "\n",
      "This patient may have underlying conditions that could manifest more acutely and should not delay seeking advanced care. Emergency transportation to the nearest medical facility for further evaluation may be needed if any acute symptoms develop.\n"
     ]
    },
    {
     "data": {
      "text/plain": [
       "' '"
      ]
     },
     "execution_count": 1,
     "metadata": {},
     "output_type": "execute_result"
    }
   ],
   "source": [
    "import sys\n",
    "import os\n",
    "\n",
    "# Add the parent directory of 'api' to the sys.path\n",
    "sys.path.append(os.path.abspath(os.path.join(os.getcwd(), '..')))\n",
    "\n",
    "# Now you can import the review_chart function\n",
    "from api.functions.reviewer import review_chart\n",
    "review_chart(\"Thank you for the additional information. Here is a summary of the details you've provided for the patient chart:**Dispatch Info:**- Dispatched to a home for a 78-year-old male with chest pains.- Patient found sitting on a couch on the first floor with his wife and son present.**Chief Complaint:**- Chest pain**History:**- No prior history of chest pains- Diabetic- Seasonal allergies- Taking OTC medication for heartburn and body aches as needed- Last oral intake at 6 PM; EMS arrival at 7:30 PM**Assessment:**- Patient alert to person, place, time, and event- Vitals: HR 98, BP 130/84, Temp: 98.8, Resp rate: 14, Blood oxygen: 99%- No other symptoms reported- Mild discomfort, but nothing remarkable\")\n",
    "\n"
   ]
  },
  {
   "cell_type": "code",
   "execution_count": null,
   "metadata": {},
   "outputs": [],
   "source": [
    "messages = client.beta.threads.messages.list(\n",
    "  thread_id=thread.id\n",
    ")\n",
    "\n",
    "print(messages.model_dump_json(indent=2))\n",
    "print(run.status)"
   ]
  },
  {
   "cell_type": "code",
   "execution_count": 1,
   "metadata": {},
   "outputs": [
    {
     "name": "stdout",
     "output_type": "stream",
     "text": [
      "vr0NrTVEFSADqR5AeDlDR0tR1flT6xfd\n",
      "200\n"
     ]
    },
    {
     "data": {
      "text/plain": [
       "\"2023v1-2-PA-BLS-Protocols.pdf\\n references: 2023v1-2-PA-BLS-Protocols.pdf\\n references: 2023v1-2-PA-BLS-Protocols.pdf\\n references: 2023v1-2-PA-BLS-Protocols.pdf\\n references: 2023v1-2-PA-BLS-Protocols.pdf \\n response: Yes, EMTs can assist with the administration of nitroglycerin, but specific conditions must be met. \\n\\n1. The patient must have chest pain that may be of cardiac origin, and the nitroglycerin must be prescribed for the patient [doc3].\\n2. The EMT must have completed the nitroglycerin module of the curriculum or continuing education [doc3].\\n3. Nitroglycerin should not be given if the patient has taken drugs for erectile dysfunction or pulmonary hypertension within the last 24-48 hours [doc5].\\n4. EMTs are allowed to assist with the medication only once prior to contacting medical command. Any subsequent administration requires direction from a medical command physician [doc5].\\n5. The patient's blood pressure must be greater than 100 systolic before administering nitroglycerin [doc5].\\n\\nIt's important to contact medical command for further instructions and to monitor vital signs before and after administration.\""
      ]
     },
     "execution_count": 1,
     "metadata": {},
     "output_type": "execute_result"
    }
   ],
   "source": [
    "import sys\n",
    "import os\n",
    "\n",
    "# Add the parent directory of 'api' to the sys.path\n",
    "sys.path.append(os.path.abspath(os.path.join(os.getcwd(), '..')))\n",
    "\n",
    "# Now you can import the review_chart function\n",
    "from api.functions.protocol import search_protocol\n",
    "search_protocol(\"Can EMTs give Nitro\")\n",
    "\n"
   ]
  }
 ],
 "metadata": {
  "kernelspec": {
   "display_name": ".venv",
   "language": "python",
   "name": "python3"
  },
  "language_info": {
   "codemirror_mode": {
    "name": "ipython",
    "version": 3
   },
   "file_extension": ".py",
   "mimetype": "text/x-python",
   "name": "python",
   "nbconvert_exporter": "python",
   "pygments_lexer": "ipython3",
   "version": "3.12.7"
  }
 },
 "nbformat": 4,
 "nbformat_minor": 2
}
