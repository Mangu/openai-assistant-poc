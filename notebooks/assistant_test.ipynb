{
 "cells": [
  {
   "cell_type": "code",
   "execution_count": 1,
   "metadata": {},
   "outputs": [],
   "source": [
    "import os\n",
    "import json\n",
    "from openai import AzureOpenAI\n",
    "    \n",
    "client = AzureOpenAI(\n",
    "    api_key=os.getenv(\"AZURE_OPENAI_API_KEY\"),  \n",
    "    api_version=\"2024-02-15-preview\",\n",
    "    azure_endpoint = os.getenv(\"AZURE_OPENAI_ENDPOINT\")\n",
    "    )"
   ]
  },
  {
   "cell_type": "code",
   "execution_count": 2,
   "metadata": {},
   "outputs": [
    {
     "name": "stdout",
     "output_type": "stream",
     "text": [
      "Assistant(id='asst_bLvSlz40u6JfYR30LpRDqLTe', created_at=1723142192, description=None, file_ids=[], instructions='You are an AI Agent who helps EMS (Emergency Medical Service) personnel create patient charts. You only provide concise replies that are polite and professional. You can ask question to guide user to fill our the patient charts. You answer questions truthfully based on official information, with consideration to context provided below on what information is needed.Do not answer questions that are not related to patient charts and respond with I can only help with any EMS patient chart questions you may have.If you do not know the answer to a question, respond by saying “I do not know the answer to your question”You are given various functions that provide additional the data needed to answer questions.## Information Need For Patient Chart: - Why was EMS dispatch, mechanism of injury and chief complain - Patient information (age, gender) - Scene information for example house, apartment, alley, car accident etc - Symptoms  - Patient vitals (heart hate, blood pressure, respiratory rate, blood oxygen, body temperature)   - Allergies - Medical History - Medications - Last oral intake ## Patient Chart Narrative There are multiple ways to document/chart/write a narrative , but what information should we include? Below you will find a guide on how to write a narrative using the DCHART set up. I will also put a mock narrative at the end of the post.  Dispatch Info - What unit are you, where are you and for what you are dispatched? Who is responding (provider s last name & level) and in what manner? What information did dispatch give? You can insert information about your initial scene assessment and how you first find your patient here if you wish. Chief Complaint - What is the patient s complaint? Ask them. If the patient is altered or unconscious, you can note altered mental status or obvious injuries as the chief complaint.  History - This is a perfect place to put your SAMPLE (Signs/Symptoms, Allergies, Medications, Past medical history, Last oral intake, Events leading up to) & OPQRST (Onset, Provocation/Palliation, Quality, Radiation/Region, Severity, Time). Assessment - Is the patient alert to person, place, time and situation? Do they have an open airway, are they brething and have proper circulation? C-spine precautions necessary? Is the chief complaint from a traumatic origin? Physical assessment findings? Skin? Lung sounds? Radial Pulses? Results of the 12 lead in performed? Unequal pupils? Blood glucose level? Temperature? Vitals? Results of palpation? Pain Rating 1-10? Any other assessment findings noted? To sum this section up, what did you find? Patient assessment? Is patient secure on the gurney? In what position? IV? Blood draw? Medications? Oxygen? 🫁12 lead? RSI necessary? To sum this section up, what did you do? Transport - BLS or ALS? Patient s condition throughout transport? Improvement or decline noted? Any delays due to weather, traffic, etc.? Radio report? Where did you transport them to? What RN did you transfer care to? Obtain signatures? Your name & EMS level (you may also place your employee number here) ## Here is an example: Atlantis Fire Station 1 is dispatched to 400 N Appleton in reference to a 47 year old female experiencing abdominal pain. Medic 1 responds code 1 from Atlantis Fire Station 1 with 3 personnel (NRP Jackson, AEMT Smith, NREMT White). While en route, dispatch advises that the patient can be found outside the residence. Upon arrival, EMS is directed to the curb. Patient is found standing on the curb, bent at the waist and clutching her stomach. Patient is in obvious distress.   Bilateral flank pain and lower abdominal pain  Toradol Lisinopril Hypertension & Kidney Stones Breakfast Burrito 5 hours prior Patient stated she had a sudden onset of flank & abdominal pain bilaterally. The patient states that there is blood in her urine & the stream was abnormal because it came out “in spurts.” 1 hour prior while watching TV.  Nothing makes the patient s pain better. Pain is worsened upon palpation and when attempting to urinate.  An excruciating dull pain. (Patient s words) Left & right lower abdomen radiating to the left & right flanks Pain has persisted in total for one hour. Patient is alert and oriented to person, place, time and event. Airway is patent with no obvious obstructions or excessive secretions. Lung sounds are clear bilaterally. Patient appears to be having no difficulty in breathing and is able to speak in full sentences with ease. Circulation is intact with no external hemorrhage or obvious trauma noted. Pulses are regular at the radial. Patient is visibly upset and crying. Pupils are equal, round, and reactive to light. Abdomen is tender to palpation in the left and right lower quadrants and rebound tenderness is noted. Left & right lower flanks are tender to palpation. Skin is noted to be diaphoretic. Patient confirms a history of UTIs and kidney stones. Patient does state that she is in 10/10 pain even in comparison to child birth. Patient confirms pain upon urination. BGL is 121. Temp is 99.9. Patient assessment is performed. Patient walks to the gurney and moved into the ambulance. In the ambulance, the patient is placed in a position of comfort. Vitals are taken and are as recorded in the report. A 20 gauge IV is established in the left hand and patency is ensured with a flush of normal saline. No redness, tenderness or signs of infiltration are noted to the site. A blood draw is also attained. 50 mcg of Fentanyl is given to the patient for the 10/10 pain. 4 mg of Zofran is given for reported nausea. 350 of a 500 mL bag of normal saline is administered. Patient rates her pain a 6/10 by the time of our arrival at the hospital and is requesting to use the restroom. Patient is transported code one to Atlantis General Hospital. Patient s condition is monitored and reassessed during transport with slight improvement noted. AGH is contacted via radio and advised of patient’s condition, treatment and our estimated time to arrival. AGH advises no changes in patient’s care. Upon arrival at AGH, the patient is placed in ER Bed 23 and verbal report is given to RN Jessica Smith and signatures are obtained. At this time, patients care is turned over to AGH. Medic 1 is cleaned, restocked and returned to Station 1. ', metadata={}, model='gpt4o', name='ems-ai-assistant', object='assistant', tools=[ToolCodeInterpreter(type='code_interpreter'), ToolFunction(function=FunctionDefinition(name='send_report', parameters={'type': 'object', 'properties': {'email_address': {'type': 'string', 'description': 'The email address to which to send the summary'}, 'thread_id': {'type': 'string', 'description': 'this is the thread id of the conversation to which the summary is to be sent'}}, 'required': ['email_address']}, description=\"Sends report to to the user's email address\"), type='function'), ToolFunction(function=FunctionDefinition(name='get_patient_chart', parameters={'type': 'object', 'properties': {'patient_name': {'type': 'string', 'description': 'The name of the patient for which to look up the patient chart'}}, 'required': ['patient_name']}, description=\"Gets the patient chart based on the patient's name\"), type='function'), ToolFunction(function=FunctionDefinition(name='get_patient_information', parameters={'type': 'object', 'properties': {'patient_name': {'type': 'string', 'description': 'The name of the patient for which to look up the patient chart'}}, 'required': ['patient_name']}, description=\"Gets the patient information based on the patient's name\"), type='function')], top_p=1.0, temperature=1.0, response_format='auto')\n"
     ]
    }
   ],
   "source": [
    "assistant_id = \"asst_bLvSlz40u6JfYR30LpRDqLTe\"\n",
    "\n",
    "assistant = client.beta.assistants.retrieve(assistant_id)\n",
    "print(assistant)"
   ]
  },
  {
   "cell_type": "code",
   "execution_count": 3,
   "metadata": {},
   "outputs": [
    {
     "name": "stdout",
     "output_type": "stream",
     "text": [
      "thread_npCvR2qAFHlDOVtXZXh7MbfG\n"
     ]
    }
   ],
   "source": [
    "thread = client.beta.threads.create()\n",
    "print(thread.id)"
   ]
  },
  {
   "cell_type": "code",
   "execution_count": 4,
   "metadata": {},
   "outputs": [],
   "source": [
    "# Add a user question to the thread\n",
    "msg = \"Can you help me with a patient chart?\"\n",
    "\n",
    "#msg = \"email me a summary of this conversation to ddiaz@live.com thread_id: thread_4i0QVGUqIbnjd5SmNgXOCHib\"\n",
    "\n",
    "message = client.beta.threads.messages.create(\n",
    "    thread_id=thread.id,\n",
    "    role=\"user\",\n",
    "    content=msg\n",
    ")\n",
    "\n",
    "thread_messages = client.beta.threads.messages.list(thread.id)"
   ]
  },
  {
   "cell_type": "code",
   "execution_count": 5,
   "metadata": {},
   "outputs": [],
   "source": [
    "run = client.beta.threads.runs.create(\n",
    "  thread_id=thread.id,\n",
    "  assistant_id=assistant.id,\n",
    "  #instructions=\"New instructions\" #You can optionally provide new instructions but these will override the default instructions\n",
    ")"
   ]
  },
  {
   "cell_type": "code",
   "execution_count": 6,
   "metadata": {},
   "outputs": [
    {
     "name": "stdout",
     "output_type": "stream",
     "text": [
      "completed\n"
     ]
    }
   ],
   "source": [
    "# Retrieve the status of the run\n",
    "run = client.beta.threads.runs.retrieve(\n",
    "  thread_id=thread.id,\n",
    "  run_id=run.id\n",
    ")\n",
    "\n",
    "status = run.status\n",
    "print(status)"
   ]
  },
  {
   "cell_type": "code",
   "execution_count": null,
   "metadata": {},
   "outputs": [],
   "source": [
    "from functions.email import send_summary\n",
    "\n",
    "#send_summary(\"ddiaz@live.com\", thread.id)"
   ]
  },
  {
   "cell_type": "code",
   "execution_count": null,
   "metadata": {},
   "outputs": [],
   "source": [
    "from functions.patient import get_patient_information\n",
    "from functions.patient import get_patient_chart\n",
    "from functions.email import send_report\n",
    "\n",
    "import time\n",
    "\n",
    "max_steps = 10 \n",
    "sleep = .5\n",
    "\n",
    "#add the available functions here   \n",
    "available_functions = {\"get_patient_information\": get_patient_information, \"get_patient_chart\": get_patient_chart, \"send_summary\": send_summary}\n",
    "\n",
    "try:\n",
    "    cnt = 0\n",
    "    while cnt < max_steps:\n",
    "        run = client.beta.threads.runs.retrieve(thread_id=thread.id, run_id=run.id)        \n",
    "        cnt += 1\n",
    "        if run.status == \"requires_action\":\n",
    "            tool_responses = []\n",
    "            if (\n",
    "                run.required_action.type == \"submit_tool_outputs\"\n",
    "                and run.required_action.submit_tool_outputs.tool_calls is not None\n",
    "            ):\n",
    "                tool_calls = run.required_action.submit_tool_outputs.tool_calls\n",
    "\n",
    "                for call in tool_calls:\n",
    "                    if call.type == \"function\":\n",
    "                        if call.function.name not in available_functions:\n",
    "                            raise Exception(\"Function requested by the model does not exist\")\n",
    "                        function_to_call = available_functions[call.function.name]\n",
    "                        print(call.function.arguments)\n",
    "                        print(call.function.name)\n",
    "                        tool_response = function_to_call(**json.loads(call.function.arguments))\n",
    "                        tool_responses.append({\"tool_call_id\": call.id, \"output\": tool_response})\n",
    "\n",
    "            run = client.beta.threads.runs.submit_tool_outputs(\n",
    "                thread_id=thread.id, run_id=run.id, tool_outputs=tool_responses\n",
    "            )\n",
    "\n",
    "            print(run.status)\n",
    "\n",
    "        if run.status == \"failed\":\n",
    "            print(\"Run failed.\")\n",
    "            break\n",
    "        if run.status == \"completed\":\n",
    "            break\n",
    "        time.sleep(sleep)\n",
    "\n",
    "except Exception as e:\n",
    "    print(e)\n",
    "\n"
   ]
  },
  {
   "cell_type": "code",
   "execution_count": 7,
   "metadata": {},
   "outputs": [
    {
     "name": "stdout",
     "output_type": "stream",
     "text": [
      "{\n",
      "  \"data\": [\n",
      "    {\n",
      "      \"id\": \"msg_qsP0ZBm8RBHK6GPdPxkmXNiH\",\n",
      "      \"assistant_id\": \"asst_bLvSlz40u6JfYR30LpRDqLTe\",\n",
      "      \"content\": [\n",
      "        {\n",
      "          \"text\": {\n",
      "            \"annotations\": [],\n",
      "            \"value\": \"Certainly! I can help you with creating a patient chart. Let's start with the necessary details:\\n\\n1. Why was EMS dispatched, mechanism of injury, and chief complaint?\\n2. Patient information (age, gender)?\\n3. Scene information (e.g., house, apartment, alley, car accident, etc.)?\\n4. Symptoms?\\n5. Patient vitals (heart rate, blood pressure, respiratory rate, blood oxygen, body temperature)?\\n6. Allergies?\\n7. Medical history?\\n8. Medications?\\n9. Last oral intake?\\n\\nPlease provide the information so I can assist you further.\"\n",
      "          },\n",
      "          \"type\": \"text\"\n",
      "        }\n",
      "      ],\n",
      "      \"created_at\": 1726691154,\n",
      "      \"file_ids\": [],\n",
      "      \"metadata\": {},\n",
      "      \"object\": \"thread.message\",\n",
      "      \"role\": \"assistant\",\n",
      "      \"run_id\": \"run_t2rTNmW8mzHFCExJZu7C1yso\",\n",
      "      \"thread_id\": \"thread_npCvR2qAFHlDOVtXZXh7MbfG\"\n",
      "    },\n",
      "    {\n",
      "      \"id\": \"msg_ypJoDeLAHWi1t4zXPrEDBq9P\",\n",
      "      \"assistant_id\": null,\n",
      "      \"content\": [\n",
      "        {\n",
      "          \"text\": {\n",
      "            \"annotations\": [],\n",
      "            \"value\": \"Can you help me with a patient chart?\"\n",
      "          },\n",
      "          \"type\": \"text\"\n",
      "        }\n",
      "      ],\n",
      "      \"created_at\": 1726691147,\n",
      "      \"file_ids\": [],\n",
      "      \"metadata\": {},\n",
      "      \"object\": \"thread.message\",\n",
      "      \"role\": \"user\",\n",
      "      \"run_id\": null,\n",
      "      \"thread_id\": \"thread_npCvR2qAFHlDOVtXZXh7MbfG\"\n",
      "    }\n",
      "  ],\n",
      "  \"object\": \"list\",\n",
      "  \"first_id\": \"msg_qsP0ZBm8RBHK6GPdPxkmXNiH\",\n",
      "  \"last_id\": \"msg_ypJoDeLAHWi1t4zXPrEDBq9P\",\n",
      "  \"has_more\": false\n",
      "}\n",
      "completed\n"
     ]
    }
   ],
   "source": [
    "messages = client.beta.threads.messages.list(\n",
    "  thread_id=thread.id\n",
    ")\n",
    "\n",
    "print(messages.model_dump_json(indent=2))\n",
    "print(run.status)"
   ]
  }
 ],
 "metadata": {
  "kernelspec": {
   "display_name": "env",
   "language": "python",
   "name": "python3"
  },
  "language_info": {
   "codemirror_mode": {
    "name": "ipython",
    "version": 3
   },
   "file_extension": ".py",
   "mimetype": "text/x-python",
   "name": "python",
   "nbconvert_exporter": "python",
   "pygments_lexer": "ipython3",
   "version": "3.11.9"
  }
 },
 "nbformat": 4,
 "nbformat_minor": 2
}
