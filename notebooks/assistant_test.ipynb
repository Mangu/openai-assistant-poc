{
 "cells": [
  {
   "cell_type": "code",
   "execution_count": 2,
   "metadata": {},
   "outputs": [],
   "source": [
    "import os\n",
    "import json\n",
    "from openai import AzureOpenAI\n",
    "\n",
    "    \n",
    "client = AzureOpenAI(\n",
    "    api_key=os.getenv(\"AZURE_OPENAI_API_KEY\"),  \n",
    "    api_version=\"2024-02-15-preview\",\n",
    "    azure_endpoint = os.getenv(\"AZURE_OPENAI_ENDPOINT\")\n",
    "    )"
   ]
  },
  {
   "cell_type": "code",
   "execution_count": null,
   "metadata": {},
   "outputs": [],
   "source": [
    "assistant_id = \"asst_bLvSlz40u6JfYR30LpRDqLTe\"\n",
    "\n",
    "assistant = client.beta.assistants.retrieve(assistant_id)\n",
    "print(assistant)"
   ]
  },
  {
   "cell_type": "code",
   "execution_count": null,
   "metadata": {},
   "outputs": [],
   "source": [
    "thread = client.beta.threads.create()\n",
    "print(thread.id)"
   ]
  },
  {
   "cell_type": "code",
   "execution_count": 5,
   "metadata": {},
   "outputs": [],
   "source": [
    "# Add a user question to the thread\n",
    "msg = \"Can you help me with a patient chart?\"\n",
    "\n",
    "#msg = \"email me a summary of this conversation to ddiaz@live.com thread_id: thread_4i0QVGUqIbnjd5SmNgXOCHib\"\n",
    "\n",
    "message = client.beta.threads.messages.create(\n",
    "    thread_id=thread.id,\n",
    "    role=\"user\",\n",
    "    content=msg\n",
    ")\n",
    "\n",
    "thread_messages = client.beta.threads.messages.list(thread.id)"
   ]
  },
  {
   "cell_type": "code",
   "execution_count": 6,
   "metadata": {},
   "outputs": [],
   "source": [
    "run = client.beta.threads.runs.create(\n",
    "  thread_id=thread.id,\n",
    "  assistant_id=assistant.id,\n",
    "  #instructions=\"New instructions\" #You can optionally provide new instructions but these will override the default instructions\n",
    ")"
   ]
  },
  {
   "cell_type": "code",
   "execution_count": null,
   "metadata": {},
   "outputs": [],
   "source": [
    "# Retrieve the status of the run\n",
    "run = client.beta.threads.runs.retrieve(\n",
    "  thread_id=thread.id,\n",
    "  run_id=run.id\n",
    ")\n",
    "\n",
    "status = run.status\n",
    "print(status)"
   ]
  },
  {
   "cell_type": "code",
   "execution_count": 8,
   "metadata": {},
   "outputs": [
    {
     "ename": "ImportError",
     "evalue": "cannot import name 'send_summary' from 'api.functions.email' (c:\\source\\openai-assistant-poc\\api\\functions\\email.py)",
     "output_type": "error",
     "traceback": [
      "\u001b[1;31m---------------------------------------------------------------------------\u001b[0m",
      "\u001b[1;31mImportError\u001b[0m                               Traceback (most recent call last)",
      "Cell \u001b[1;32mIn[8], line 1\u001b[0m\n\u001b[1;32m----> 1\u001b[0m \u001b[38;5;28;01mfrom\u001b[39;00m \u001b[38;5;21;01mapi\u001b[39;00m\u001b[38;5;21;01m.\u001b[39;00m\u001b[38;5;21;01mfunctions\u001b[39;00m\u001b[38;5;21;01m.\u001b[39;00m\u001b[38;5;21;01memail\u001b[39;00m \u001b[38;5;28;01mimport\u001b[39;00m send_summary\n\u001b[0;32m      3\u001b[0m \u001b[38;5;66;03m#send_summary(\"ddiaz@live.com\", thread.id)\u001b[39;00m\n",
      "\u001b[1;31mImportError\u001b[0m: cannot import name 'send_summary' from 'api.functions.email' (c:\\source\\openai-assistant-poc\\api\\functions\\email.py)"
     ]
    }
   ],
   "source": [
    "from api.functions.email import send_summary\n",
    "\n",
    "#send_summary(\"ddiaz@live.com\", thread.id)"
   ]
  },
  {
   "cell_type": "code",
   "execution_count": null,
   "metadata": {},
   "outputs": [],
   "source": [
    "from api.functions.patient import get_patient_information\n",
    "from api.functions.patient import get_patient_chart\n",
    "from api.functions.email import send_report\n",
    "from api.functions.patient import review_chart\n",
    "\n",
    "import time\n",
    "\n",
    "max_steps = 10 \n",
    "sleep = .5\n",
    "\n",
    "#add the available functions here   \n",
    "available_functions = {\"get_patient_information\": get_patient_information, \"get_patient_chart\": get_patient_chart, \"send_summary\": send_summary,\"review_chart\":review_chart}\n",
    "\n",
    "try:\n",
    "    cnt = 0\n",
    "    while cnt < max_steps:\n",
    "        run = client.beta.threads.runs.retrieve(thread_id=thread.id, run_id=run.id)        \n",
    "        cnt += 1\n",
    "        if run.status == \"requires_action\":\n",
    "            tool_responses = []\n",
    "            if (\n",
    "                run.required_action.type == \"submit_tool_outputs\"\n",
    "                and run.required_action.submit_tool_outputs.tool_calls is not None\n",
    "            ):\n",
    "                tool_calls = run.required_action.submit_tool_outputs.tool_calls\n",
    "\n",
    "                for call in tool_calls:\n",
    "                    if call.type == \"function\":\n",
    "                        if call.function.name not in available_functions:\n",
    "                            raise Exception(\"Function requested by the model does not exist\")\n",
    "                        function_to_call = available_functions[call.function.name]\n",
    "                        print(call.function.arguments)\n",
    "                        print(call.function.name)\n",
    "                        tool_response = function_to_call(**json.loads(call.function.arguments))\n",
    "                        tool_responses.append({\"tool_call_id\": call.id, \"output\": tool_response})\n",
    "\n",
    "            run = client.beta.threads.runs.submit_tool_outputs(\n",
    "                thread_id=thread.id, run_id=run.id, tool_outputs=tool_responses\n",
    "            )\n",
    "\n",
    "            print(run.status)\n",
    "\n",
    "        if run.status == \"failed\":\n",
    "            print(\"Run failed.\")\n",
    "            break\n",
    "        if run.status == \"completed\":\n",
    "            break\n",
    "        time.sleep(sleep)\n",
    "\n",
    "except Exception as e:\n",
    "    print(e)\n",
    "\n"
   ]
  },
  {
   "cell_type": "code",
   "execution_count": 1,
   "metadata": {},
   "outputs": [
    {
     "name": "stdout",
     "output_type": "stream",
     "text": [
      "The patient chart provides a comprehensive overview of the patient's condition and the events leading up to their current state. Here are some observations and feedback based on the information provided:\n",
      "\n",
      "1. **Chief Complaint:** \n",
      "   - The primary issue is chest pain. Given the patient's age (78 years old) and his medical history, this should be taken seriously.\n",
      "\n",
      "2. **History:**\n",
      "   - No prior history of chest pains is noted, which means this episode could be particularly concerning if it’s the first occurrence.\n",
      "   - The patient is diabetic, which increases the risk of cardiovascular issues.\n",
      "   - Seasonal allergies and occasional use of OTC medication for heartburn and body aches. It's important to differentiate if the chest pain could be related to heartburn or GERD.\n",
      "   - Time of last oral intake is relevant and indicates the patient has had a gap between the last intake and the onset of chest pain.\n",
      "\n",
      "3. **Assessment:**\n",
      "   - The patient is alert and oriented (AOx4), which is a good sign.\n",
      "   - Vital signs:\n",
      "     - Heart Rate (HR): 98; slightly elevated but within normal limits.\n",
      "     - Blood Pressure (BP): 130/84; normal.\n",
      "     - Temperature: 98.8°F; normal.\n",
      "     - Respiratory Rate (RR): 14; normal.\n",
      "     - Blood Oxygen: 99%; excellent.\n",
      "\n",
      "   The vitals do not indicate an acute crisis but considering the complaint of chest pain, further investigation is warranted.\n",
      " \n",
      "4. **Additional Symptoms:** \n",
      "   - No other symptoms are reported, and the patient describes mild discomfort. However, mild discomfort in chest pain should not be underestimated, especially in a diabetic patient.\n",
      "\n",
      "### Recommendations:\n",
      "1. **Immediate Further Evaluation:**\n",
      "   - Given the patient's chest pain and his risk factors (age, diabetes), conducting an ECG to rule out any acute cardiac event is advisable.\n",
      "   - Blood tests, including troponin levels, to check for markers of a myocardial infarction.\n",
      "   - Consider a thorough physical examination focusing on cardiovascular and respiratory systems.\n",
      "   \n",
      "2. **Monitoring:**\n",
      "   - Continuous monitoring of vitals is critical. Monitor pain levels and any changes in symptoms.\n",
      "   \n",
      "3. **Pain Management:**\n",
      "   - Evaluate if nitroglycerin is indicated (if not contraindicated). \n",
      "   - Consider whether the chest pain could be related to acid reflux (GERD) due to his mention of taking OTC for heartburn, and manage accordingly if a cardiac cause is ruled out.\n",
      "\n",
      "4. **Medical History Update:**\n",
      "   - Ensure all medications, including OTC, are documented. This can help in understanding potential drug interactions or side effects.\n",
      "   \n",
      "5. **Follow-Up:**\n",
      "   - Strongly recommend the patient follow up with a primary care physician or cardiologist regardless of the immediate findings, to ensure they receive a comprehensive cardiac evaluation.\n",
      "\n",
      "This patient may have underlying conditions that could manifest more acutely and should not delay seeking advanced care. Emergency transportation to the nearest medical facility for further evaluation may be needed if any acute symptoms develop.\n"
     ]
    },
    {
     "data": {
      "text/plain": [
       "' '"
      ]
     },
     "execution_count": 1,
     "metadata": {},
     "output_type": "execute_result"
    }
   ],
   "source": [
    "import sys\n",
    "import os\n",
    "\n",
    "# Add the parent directory of 'api' to the sys.path\n",
    "sys.path.append(os.path.abspath(os.path.join(os.getcwd(), '..')))\n",
    "\n",
    "# Now you can import the review_chart function\n",
    "from api.functions.reviewer import review_chart\n",
    "review_chart(\"Thank you for the additional information. Here is a summary of the details you've provided for the patient chart:**Dispatch Info:**- Dispatched to a home for a 78-year-old male with chest pains.- Patient found sitting on a couch on the first floor with his wife and son present.**Chief Complaint:**- Chest pain**History:**- No prior history of chest pains- Diabetic- Seasonal allergies- Taking OTC medication for heartburn and body aches as needed- Last oral intake at 6 PM; EMS arrival at 7:30 PM**Assessment:**- Patient alert to person, place, time, and event- Vitals: HR 98, BP 130/84, Temp: 98.8, Resp rate: 14, Blood oxygen: 99%- No other symptoms reported- Mild discomfort, but nothing remarkable\")\n",
    "\n"
   ]
  },
  {
   "cell_type": "code",
   "execution_count": null,
   "metadata": {},
   "outputs": [],
   "source": [
    "messages = client.beta.threads.messages.list(\n",
    "  thread_id=thread.id\n",
    ")\n",
    "\n",
    "print(messages.model_dump_json(indent=2))\n",
    "print(run.status)"
   ]
  },
  {
   "cell_type": "code",
   "execution_count": 2,
   "metadata": {},
   "outputs": [
    {
     "name": "stdout",
     "output_type": "stream",
     "text": [
      "vr0NrTVEFSADqR5AeDlDR0tR1flT6xfd\n",
      "200\n"
     ]
    },
    {
     "data": {
      "text/plain": [
       "{'documents': [{'chunk_id': '0',\n",
       "   'content': 'Title: 2023v1-2-PA-BLS-Protocols.pdfPennsylvania Department of Health  Respiratory  411 – BLS – Adult/Peds  \\nEffective 03/31/2024   411-2 of 3 3. The Bureau will create approved education and user assistance with this program.  \\n4. The agency medical director shall inspect the kit and verify training of EMTs prior to approval \\nand implementation.  \\n5. Agencies m ust have approv al by the agency  and regional  medical director. The regional QI \\nprogram will monitor implementation.  \\nTreatment:  \\nA. All patients  treated  by BLS agenci es that DO NOT  carry  EPINEPH rine auto -injector  (i.e. \\npatient -assisted  EPINEPH rine): \\n1. Initial  Patient  Contact  – see Protocol  # 201. \\na. Consider  call for ALS if available.  See Indications  for ALS Use protocol  #210.  \\n2. Administer  oxygen.  (High  concentration  if difficulty  breathing  or signs  of shock)  \\n3. Determine  the severity  of the patient’s  symptoms.  \\na. For severe  symptoms  listed  above:  \\n1) If the patient  has a prescribed  EPINEPH rine auto-injector,  assist2 with the \\nadministration  of single  unit dose  of EPINEPH rine via auto injector.3,4,5,6,7 [EMT  \\nONLY]  \\na) Adult  dose  0.3 mg (e.g. EpiPen)  \\nb) Pediatric  dose  0.15 mg (e.g. EpiPen  Junior)  \\n2) Monitor  vital signs  and reassess  patient.  \\n3) Contact  medical  command.  \\nb. For moderate  symptoms  listed  above:  \\n1) Contact  medical  command  if the patient  has a prescribed  EPINEPH rine auto-injector.  \\n4. Monitor  vital signs  and reassess  patient.  \\n5. Monitor  pulse  oximetry  – See Pulse  Oximetry  Protocol  #226.  \\n6. Transport.  \\nB. All patients  treated  by EMTs  functioning  with BLS agencies  that are approved  to carry  \\nEPINEPH rine auto -injectors  or EPINEPH rine 1mg/mL  vial (i.e. primary  administration  of \\nEPINEPH rine) [OPTIONAL]:  \\n1. Initial  Patient  Contact  – see Protocol  # 201. \\na. Consider  call for ALS if available.  See Indications  for ALS Use protocol  #210.  \\n2. Administer  high concentration  oxygen.  \\n3. Determine  severity  of patient’s  symptoms  \\na. For severe  symptoms  listed  above:  \\n1) Administer  a single  unit dose  of EPINEPH rine via auto injector4,5,7 or EPINEPH rine \\n1mg/mL vial .7 \\na) Adult  dose  0.3 mg (e.g. EpiPen , or EPIN EPHrine 1mg/mL  vial) \\nb) Pediatric  dose  0.15 mg (e.g. EpiPen  Junior  or EPINEPHrine 1mg/mL  vial) \\n2) Monitor  vital signs  and reassess  patient.  \\n3) Contact  Medical  Command.  \\nb. For moderate  symptoms  listed  above,  Contact  Medical  Command  and follow  directions  of \\nmedical  command  physician.  \\n4. Monitor  vital signs  and reassess  patient.  \\n5. Monitor  pulse  oximetry  – See Pulse  Oximetry  Protocol  #226  \\n6. Transport  \\n7. Contact  Medic al Command  if condition  worsens.  \\nPossible  Medical  Command  Orders:  \\nA. If patient  has a second  EPINEPH rine auto-injector,  medical  command  physician  may order  EMT  \\nto assist  patient  with the administration  of a second  dose  of EPINEPH rine. ',\n",
       "   'filepath': '2023v1-2-PA-BLS-Protocols.pdf',\n",
       "   'metadata': None,\n",
       "   'score': 0.01639344262295082,\n",
       "   'title': '2023v1-2-PA-BLS-Protocols.pdfPennsylvania Department of Health  Respiratory  411 – BLS – Adult/Peds',\n",
       "   'url': '2023v1-2-PA-BLS-Protocols.pdf'},\n",
       "  {'chunk_id': '0',\n",
       "   'content': 'Title: 2023v1-2-PA-BLS-Protocols.pdfPennsylvania Department of Health  Assessments & Procedures  226 – BLS – Adult/Peds  \\nEffective 03/31/2024   226-1 of 2  \\nPULSE  OXIMETRY  \\nSTATEWIDE  BLS PROTOCOL  \\nCriteria:  \\nA. Patient  with shortness  of breath  or respiratory  distress  \\nB. Patient  with chronic  lung disease  (COPD,  emphysema)  who are receiving  oxygen  therapy  1 \\nC. Any patient  requiring  oxygen  therapy  as determined  by other  appropriate  Statewide  BLS medical  \\ntreatment  protocols  \\nExclusion  Criteria:  \\nA. Patient  with suspected  carbon  monoxide  poisoning.  These  patients  should  all receive  high-flow \\n100%  oxygen  without  regard  to pulse  oximeter  reading.  2 \\nSystem  Requirements:  \\nA. [Optional]  BLS QRS  vehicles  may carry  a pulse  oximeter  for use by appropriately  trained  EMTs.  \\nB. A pulse  oximeter  must  be carried  on every  BLS,  IALS,  and ALS ambulance  and squad  vehicle  and \\nused  by EMS  providers  at the level of EMT  and above.  EMS  agencies  and their medical  directors  \\nmust  ensure  that EMTs  who have  not been  previously  educated  to use pulse  oximeters  are \\nappropriately  educated  to the use of these  devices.  \\nC. Pulse  oximetry  is not in the scope  of practice  of EMR  level providers.  References  to pulse  oximetry  \\nwithin  these  Statewide  BLS Protocols  do not apply  to EMRs.  \\nProcedure:  \\nA. All patients  requiring  oxygen  therapy  \\n1. Initial  Patient  Contact  – see Protocol  #201.  \\n2. Administer  oxygen  as determined  by appropriate  medical  treatment  protocol.  \\na. Providing  oxygen  therapy,  patient  extrication,  and on-scene  time should  never  be delayed  \\nwhile  obtaining  an O2 saturation  reading.  \\n3. Monitor  O2 saturation  (SpO 2) with pulse oximeter  \\na. Assure  that reading  is accurate.   Patient’s  pulse  should  correlate  with waves  or pulsations  \\non pulse oximeter.  \\nb. Possible  causes  of inability  to obtain  as accurate  SpO 2 reading  include:  \\n1) Peripheral  vasoconstriction  (cold  extremities,  smoking,  chronic  hypoxia,  or vascular  \\nobstruction/deficit).  \\n2) Severe  anemia  (low hemoglobin).  \\n3) Hypovolemia.  \\n4) Dirty Fingers  or dark/metallic  nail polish.  \\n5) Methemoglobinemia.  \\n6) Carbon  monoxide  – Do not apply  pulse oximeter  to patient  with suspected  carbon  \\nmonoxide  poisoning.  2 \\n4. Use of SpO 2 reading  to alter oxygen  dosage:  \\na. The following  patients  should  receive  high-flow oxygen  at all times  when  possible:  \\n1) Patients  with symptoms  or signs  of severe  respiratory  distress  (air hunger,  cyanosis,  \\nchest  wall/subcostal  retractions,  etc.) \\n2) Patients  with suspected  carbon  monoxide  poisoning.  ',\n",
       "   'filepath': '2023v1-2-PA-BLS-Protocols.pdf',\n",
       "   'metadata': None,\n",
       "   'score': 0.016129032258064516,\n",
       "   'title': '2023v1-2-PA-BLS-Protocols.pdfPennsylvania Department of Health  Assessments & Procedures  226 – BLS – Adult/Peds',\n",
       "   'url': '2023v1-2-PA-BLS-Protocols.pdf'},\n",
       "  {'chunk_id': '0',\n",
       "   'content': 'Title: 2023v1-2-PA-BLS-Protocols.pdfPennsylvania Department of Health  Cardiac  501 – BLS – Adult/Peds  \\nEffective 03/31/2024   501-1 of 2  \\nCHEST  PAIN /SUSPECTED ACUTE CORONARY SYNDROME  \\nSTATEWIDE  BLS PROTOCOL  \\nCriteria:  \\nA. Adult patients with symptoms of possible ischemia. Diabetics, women, and elderly patients may \\nhave atypical symptoms without retrosternal chest pain: Chest  pain of possible  cardiac  origin.   May \\ninclude:  \\n1. Retrosternal  chest  heaviness/pressure/pain  \\n2. Radiation  of pain to neck,  arms  or jaw \\n3. Associated  SOB  Shortness of Breath , nausea/vomiting  or sweating  \\n4. Possibly  worsened  by exertion  \\n5. Patient  over 30 y/o or with known  cardiac  ischemic  disease \\n6. Patient  with history  of recent  stimulant/ cocaine /amphetamine drug  use \\nExclusion  Criteria:  \\nA. Chest  pain,  probably  not cardiac  origin.  \\n1. May include:  \\na. Pleuritic  chest  pain- worsens  with deep  breath  or bending/turning.  \\nb. Patient  less than 30 y/o \\n2. If associated  with shortness  of breath,  follow  Shortness  of Breath  protocol  #421  \\nSystem  Requirements:  \\nA. Only an EMT  that has completed  the nitroglycerin  module  of the curriculum  or continuing  education  \\nmay assist  with NTG  administration.  \\nTreatment:  \\nA. All patients:  \\n1. Initial  Patient  Contact  – see Protocol  # 201. \\na. Consider  call for ALS/IALS  if available.  See Indications  for ALS/IALS  Use protocol  #210  \\n2. Apply  oxygen  (High  concentration  if patient  also has difficulty  breathing  or hypoperfusion)  \\n3. Monitor  pulse  oximetry  – See Pulse  Oximetry  Oxygen Administration  Protocol  #202  #226  – and \\ntitrate  oxygen  to the lowest  concentration  that will maintain  SpO 2 between  95 and 99%. \\na. If recently exposed to confined space or fire/combustion, use high -flow 100% oxygen . \\n4. [OPTIONAL]  If patient  has chest  pain that may be of cardiac  origin,  obtain  and transmit  12-\\nlead ECG  if BLS agency  has this capability.  See Protocol  #250. \\n5. If no allergy  to aspirin , administer  Aspirin,  four 81 mg baby  aspirins  chewed  \\na. WARNING:  Do not give aspirin  if patient  is allergic  to aspirin.  \\n6. Assist  patient  with his/her  prescribed  nitroglycerin  based  upon  the following:1,2,3,4 [EMT  ONLY]  \\na. Suspected  cardiac  origin  as outlined  above.  \\nb. WARNING : Do not give nitroglycerin  if you are aware  that a patient  has taken  Viagra or \\nsimilar  medications for erectile dysfunction (phosphodiesterase inhibitors) or pulmonary \\nhypertension  (Viagra  or similar  medications  such as Levitra, Cialis, Revatio) for erectile  \\ndysfunction  or pulmonary  hypertension  within  the last 24-48 hours.5 ',\n",
       "   'filepath': '2023v1-2-PA-BLS-Protocols.pdf',\n",
       "   'metadata': None,\n",
       "   'score': 0.015873015873015872,\n",
       "   'title': '2023v1-2-PA-BLS-Protocols.pdfPennsylvania Department of Health  Cardiac  501 – BLS – Adult/Peds',\n",
       "   'url': '2023v1-2-PA-BLS-Protocols.pdf'},\n",
       "  {'chunk_id': '0',\n",
       "   'content': 'Title: 2023v1-2-PA-BLS-Protocols.pdfPennsylvania Department of Health  Cardiac  501 – BLS – Adult/Peds  \\nEffective 03/31/2024   501-2 of 2 c. Patient  is currently  experiencing  chest  pain or discomfort.  \\nd. Blood  pressure  is > 100 systolic.  \\n7. Transport.  \\n8. Monitor  vital signs  and reassess.  \\n9. Contact  medical  command  if EMT  has assisted  with nitroglycerin  for possible additional doses .6 \\nPossible  Medical  Command  Orders:  \\nA. Medical  command  may order  additional  doses  of nitroglycerin.  \\nNotes:  \\n1. An EMT  may assist  with the medication  ONE  TIME  ONLY  prior to contacting  Medical  Command.   \\nAny subsequent  administration  requires  direction  from a medical  command  physician.  \\n2. Nitroglycerin  must  be prescribed  for the patient,  and EMS  must  identify  and administer  the \\nprescribed  dose  (sublingual  “tablet”  or “spray”).  \\n3. Nitroglycerin  should  not be given  to a child.  \\n4. If unsure  of the appropriate  action,  the EMT  should  contact  Medical  Command  for further  direction.  \\n5. Nitroglycerin  use may lead to severe,  and possibly  fatal,  hypotension  when  given  within  24-48 \\nhours  after a patient  has used  drugs  that treat erectile  dysfunction  (phosphodiesterase  inhibitors)  \\nand pulmonary  hypertension.  Nitroglycerin  should  not be given  within  24 48 hours  of taking  Viagra  \\n/Revatio  (sildenafil) , Levitra  (vardenafil)  or within  48 hours  of taking  Cialis  (tadalafil).  \\n6. If unable  to contact  medical  command,  may repeat  nitroglycerin  one time 5 minutes  after initial  \\ndose  as long as systolic  blood  pressure  is > 100 prior to second  dose.  \\nPerformance  Parameters:  \\nA. For every  case  of assisting  with nitroglycerin,  assure  documentation  of history  consistent  with \\ncardiac  chest  pain,  assure  documentation  of vital signs  before  and after nitroglycerin,  assure  \\nappropriate  contact  with medical  command.  \\nB. Consider  benchmark  of on scene  time < 15 minutes  if ALS not on scene.  \\n ',\n",
       "   'filepath': '2023v1-2-PA-BLS-Protocols.pdf',\n",
       "   'metadata': None,\n",
       "   'score': 0.015625,\n",
       "   'title': '2023v1-2-PA-BLS-Protocols.pdfPennsylvania Department of Health  Cardiac  501 – BLS – Adult/Peds',\n",
       "   'url': '2023v1-2-PA-BLS-Protocols.pdf'},\n",
       "  {'chunk_id': '0',\n",
       "   'content': 'Title: 2023v1-2-PA-BLS-Protocols.pdfPennsylvania Department of Health  Respiratory  411 – BLS – Adult/Peds  \\nEffective 03/31/2024   411-3 of 3 B. If BLS agency  carries  EPINEPH rine auto-injector  or EPINEPH rine 1mg/mL vial, medical  \\ncommand  physician  may order  administration  of EPINEPH rine. \\nNotes:  \\n1. Patients  with mild allergic  reactions  should  be reassessed  for the development  of more  severe  \\nsymptoms . If reaction  is a single  welt without  other  symptoms,  may apply  dab of over-the-counter  \\nsting  reducing  medication,  if available  – these  commonly  contain  benzocaine , diphenhydr AMINE , \\nphenol,  and/or  camphor.  \\n2. The EMT  may need  to administer  the medication  rather  than assist  if the patient  has a decreased  \\nlevel of consciousness.  \\n3. Assure  that the available  auto-injector  was prescribed  for the patient  and is not expired.  \\n4. Side effects  of EPINEPH rine are rare.  They  include:  \\nIncreased  heart  rate  Vomiting    Excitability    \\nNausea    Chest  Pain   Headache   \\nDizziness    Anxiousness    Pallor  \\n5. Use caution  in patients  over 55 years  old. Contact  Medical  Command  if patient  does  not have  \\nsevere  symptoms  as defined  above  or if unsure  whether  this is an allergic  reaction.  \\n6. If the patient  does  not have  a prescribed  EPINEPH rine auto injector,  but there  is a bystander  \\navailable  with an auto injector,  contact  medical  command . \\n7. Dispose  of the injector  or syringe  in a biohazard  container.  \\nPerformance  Parameters:  \\nA. Review  every  case  of EMT  administered  or assisted  EPINEPH rine auto-injector  or EPINEPH rine \\n1mg/mL vial  use for documentation  of symptoms  defined  in protocol.  \\nB. Review  every  case  of EMT  administered  or assisted  EPINEPH rine auto-injector  or EPINEPH rine \\n1mg/mL vial  for the appropriate  contact  with medical  command  as required  by the protocol.  \\nC. Consider  benchmark  of on scene  time < 10 minutes.  ',\n",
       "   'filepath': '2023v1-2-PA-BLS-Protocols.pdf',\n",
       "   'metadata': None,\n",
       "   'score': 0.015384615384615385,\n",
       "   'title': '2023v1-2-PA-BLS-Protocols.pdfPennsylvania Department of Health  Respiratory  411 – BLS – Adult/Peds',\n",
       "   'url': '2023v1-2-PA-BLS-Protocols.pdf'}],\n",
       " 'reply': \"Yes, EMTs can assist with the administration of nitroglycerin under specific conditions. According to the Pennsylvania Department of Health's BLS Protocols, an EMT who has completed the nitroglycerin module of the curriculum or continuing education may assist with nitroglycerin administration if the patient is experiencing chest pain of suspected cardiac origin, has a blood pressure greater than 100 systolic, and is not allergic to aspirin [doc3][doc4]. The EMT can assist with the medication one time only prior to contacting Medical Command for further direction [doc4].\"}"
      ]
     },
     "execution_count": 2,
     "metadata": {},
     "output_type": "execute_result"
    }
   ],
   "source": [
    "import sys\n",
    "import os\n",
    "\n",
    "# Add the parent directory of 'api' to the sys.path\n",
    "sys.path.append(os.path.abspath(os.path.join(os.getcwd(), '..')))\n",
    "\n",
    "# Now you can import the review_chart function\n",
    "from api.functions.protocol import search_protocol\n",
    "search_protocol(\"Can EMTs give Nitro\")\n",
    "\n"
   ]
  }
 ],
 "metadata": {
  "kernelspec": {
   "display_name": ".venv",
   "language": "python",
   "name": "python3"
  },
  "language_info": {
   "codemirror_mode": {
    "name": "ipython",
    "version": 3
   },
   "file_extension": ".py",
   "mimetype": "text/x-python",
   "name": "python",
   "nbconvert_exporter": "python",
   "pygments_lexer": "ipython3",
   "version": "3.12.7"
  }
 },
 "nbformat": 4,
 "nbformat_minor": 2
}
